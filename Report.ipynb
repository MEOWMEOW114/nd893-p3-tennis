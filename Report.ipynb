{
 "cells": [
  {
   "cell_type": "markdown",
   "metadata": {},
   "source": [
    "# Report\n",
    "\n",
    "## Situation\n",
    "\n",
    "    In this project,two agents control rackets to bounce a ball over a net. If an agent hits the ball over the net, it receives a reward of +0.1. If an agent lets a ball hit the ground or hits the ball out of bounds, it receives a reward of -0.01. Thus, the goal of each agent is to keep the ball in play.\n",
    "    \n",
    "    The observation space consists of 8 variables corresponding to the position and velocity of the ball and racket. Each agent receives its own, local observation. Two continuous actions are available, corresponding to movement toward (or away from) the net, and jumping.\n",
    "    \n",
    "    The task is episodic, and in order to solve the environment, your agents must get an average score of +0.5 (over 100 consecutive episodes, after taking the maximum over both agents). Specifically,\n",
    "\n",
    "    After each episode, we add up the rewards that each agent received (without discounting), to get a score for each agent. This yields 2 (potentially different) scores. We then take the maximum of these 2 scores.\n",
    "    This yields a single score for each episode.\n",
    "\n",
    "    The environment is considered solved, when the average (over 100 episodes) of those scores is at least +0.5.\n",
    "    \n",
    "    You could refer to this youtube about how the trained agent performs https://youtu.be/ifiFtrm_KHU\n",
    "    "
   ]
  },
  {
   "cell_type": "markdown",
   "metadata": {},
   "source": [
    "## Algorithm:\n",
    "\n",
    "    The algorithm implemented in this project uses an actor-critic architeture to deal with the high-dimensional aciton space. \n",
    "    \n",
    "    The MADDPG model is an extension of the DDPG algorithm. Its critic is trained with extra information about the policies of other agents while the actor only has access local information."
   ]
  },
  {
   "cell_type": "markdown",
   "metadata": {},
   "source": [
    "## Model :\n",
    "\n",
    "    Both actor and critic models are quite similar, each with two hidden layers of 256-128 nodes, with ReLU activation functions on the hidden layers and tanh on the output layers. The agents shared one experience memory buffer.\n",
    "\n",
    "###  Actor Model:\n",
    "\n",
    "- Fully connected layer - input: 48 (state size) output: 256\n",
    "- Fully connected layer - input: 256 output 128\n",
    "- Fully connected layer - input: 128 output: 2 (action size)\n",
    "\n",
    "### Critic Model\n",
    "- Fully connected layer - input: 48 (state size) output: 256\n",
    "- Fully connected layer - input: 250 output 128\n",
    "- Fully connected layer - input: 128 output: 1 \n"
   ]
  },
  {
   "cell_type": "markdown",
   "metadata": {},
   "source": [
    "## Hyper Parameters:\n",
    "\n",
    "<table width=600>\n",
    "<tr><td>Memory buffer size  </td><td> 1e6    </td></tr>     \n",
    "<tr><td>Batch size </td><td>  128   </td></tr>\n",
    "<tr><td>Gamma  </td><td> 0.99    </td></tr>\n",
    "<tr><td>Actor Learning Rate  </td><td> 1e-3   </td></tr>\n",
    "<tr><td>Critic Learning Rate  </td><td> 1e-3   </td></tr>\n",
    "<tr><td>Actor Model  </td><td> Adam optimizer   </td></tr>\n",
    "<tr><td>Critic Model  </td><td>  Adam optimizer    </td></tr>     \n",
    "<tr><td>Tau (soft update)  </td><td> 6e-2          </td></tr>           \n",
    "<tr><td>update target network frequency  </td><td> 1    </td></tr>\n",
    "<tr><td>Noise Level Start </td><td> 6  </td></tr>\n",
    "<tr><td>Noise Level End </td><td> 0  </td></tr>\n",
    "<tr><td>Noise Level Decay </td><td> 250  </td></tr>\n",
    "<tr><td>Weight Decay </td><td> 0  </td></tr>\n",
    "\n",
    "</table>\n",
    "\n",
    "    "
   ]
  },
  {
   "cell_type": "markdown",
   "metadata": {},
   "source": [
    "    When training agents to succeed in an environment where the rules, boundaries and outcomes are completely unknown, it's extremely important to strike the right balance between having the agent explore the environment to learn how it's shaped and exploit what's learned to achieve the highest possible reward. If the agent doesn't explore enough, it might not find the optimal actions to take. If the agent explores too long, it will be slow to achieve the desired reward. In the Unity Tennis environment, I found that early exploration is particularly important compared to other Unity environments I have trained."
   ]
  },
  {
   "attachments": {},
   "cell_type": "markdown",
   "metadata": {},
   "source": [
    "## Plot of rewards \n",
    "\n",
    "<img src=\"average_score.png\">\n"
   ]
  },
  {
   "cell_type": "markdown",
   "metadata": {},
   "source": [
    "    From the juypter notebook ,Environment solved in 880 episodes!\tAverage Score: 0.5 . The training is a bit unstable."
   ]
  },
  {
   "cell_type": "markdown",
   "metadata": {},
   "source": [
    "## Future work and improvement\n",
    "\n",
    "###    Using EPP\n",
    "\n",
    "    Udacity suggested using Prioritized Experience Replay could improve stability as well as the performance\n",
    "    \n",
    "### exploring other reinforcement learning algorithms\n",
    "    \n",
    "    https://blog.openai.com/openai-baselines-ppo/ Proximal Policy Optimization by Open AI\n",
    "    \n",
    "    https://towardsdatascience.com/introduction-to-various-reinforcement-learning-algorithms-part-ii-trpo-ppo-87f2c5919bb9 Introduction to Various Reinforcement Learning Algorithms. Part II (TRPO, PPO)\n",
    " \n",
    "\n"
   ]
  }
 ],
 "metadata": {
  "kernelspec": {
   "display_name": "drlnd",
   "language": "python",
   "name": "drlnd"
  },
  "language_info": {
   "codemirror_mode": {
    "name": "ipython",
    "version": 3
   },
   "file_extension": ".py",
   "mimetype": "text/x-python",
   "name": "python",
   "nbconvert_exporter": "python",
   "pygments_lexer": "ipython3",
   "version": "3.6.7"
  }
 },
 "nbformat": 4,
 "nbformat_minor": 2
}
